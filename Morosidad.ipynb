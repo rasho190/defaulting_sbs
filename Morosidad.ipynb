{
 "cells": [
  {
   "cell_type": "markdown",
   "metadata": {},
   "source": [
    "# Caso Práctico - Análisis de Morosidad"
   ]
  },
  {
   "cell_type": "markdown",
   "metadata": {},
   "source": [
    "## Premisa"
   ]
  },
  {
   "cell_type": "markdown",
   "metadata": {},
   "source": [
    "Se desea evaluar cómo es que la morosidad de los principales productos dentro del sistema financiero nacional.\n",
    "\n",
    "A partir de la información disponible en la SBS respecto de riesgo crediticio, se realiza un análisis de la información para conocer tendencias y realizar un diagnóstico y opinión sobre los resultados más relevantes"
   ]
  },
  {
   "cell_type": "markdown",
   "metadata": {},
   "source": [
    "## Ataque al Problema"
   ]
  },
  {
   "cell_type": "markdown",
   "metadata": {},
   "source": [
    "Para este caso, se plantea la siguiente estrategia de abordaje:\n",
    " - Análisis de la morosidad en los productos financieros más utilizados por los clientes dentro del sistema financiero dentro del marco de los créditos de consumo (perspectiva del cliente) para medir capacidad de endeudamiento y comportamientos.\n",
    " - Análisis homólogo a la morosidad a nivel corporativa (tanto de empresas grandes como de pequeñas y medianas)\n",
    " - Se realizará el análisis tomando como consideración el 'market share' de los principales bancos a nivel nacional (top-5). Fuente: https://prensaregional.pe/los-bancos-con-mas-poder-en-enero-del-2024/\n",
    "\n",
    "\n",
    "Consideraciones Adicionales\n",
    " - No se considera vivienda, dado que nos interesa saber cómo interactua la morosidad cliente vs empresa (B2C) y empresa vs empresa (B2B)"
   ]
  },
  {
   "cell_type": "markdown",
   "metadata": {},
   "source": [
    "## Programación - Primer Bullet"
   ]
  },
  {
   "cell_type": "markdown",
   "metadata": {},
   "source": [
    "### Parte 1: Preparación de la Data"
   ]
  },
  {
   "cell_type": "code",
   "execution_count": null,
   "metadata": {},
   "outputs": [],
   "source": [
    "# Librerías\n",
    "import glob  # Librería para navegación de carpetas, se usará para lectura masiva de archivos\n",
    "\n",
    "import pandas as pd  # Librería de lectura de datos tabulares\n",
    "import datetime  # Librería para trabajar con información tipo fecha\n",
    "\n",
    "import plotly.graph_objects as go  # Librería Gráfica"
   ]
  },
  {
   "cell_type": "markdown",
   "metadata": {},
   "source": [
    "#### Clientes B2C"
   ]
  },
  {
   "cell_type": "markdown",
   "metadata": {},
   "source": [
    "Aquí se toma la información correspondiente a créditos personales."
   ]
  },
  {
   "cell_type": "markdown",
   "metadata": {},
   "source": [
    "##### Periodo 1: 2023 - 2024"
   ]
  },
  {
   "cell_type": "code",
   "execution_count": null,
   "metadata": {},
   "outputs": [],
   "source": [
    "df_creditos_1 = pd.DataFrame()  # Base de Datos en blanco para unir toda la data\n",
    "\n",
    "for file in glob.glob('C:/Users/ryanh/Downloads/DataFC/Análisis de Morosidad/2023-2024/*.xls'):\n",
    "\n",
    "    df = pd.read_excel(file, header=None, engine='xlrd')  # Lectura masiva de archivos\n",
    "    df = df.fillna(0)  # Completa los valores faltantes con 0\n",
    "    df = df.replace(\"-\", 0)  # Reemplaza el caracter '-' con 0\n",
    "\n",
    "    # Hay archivos que en los encabezados se cuenta con * por lo que se colocan los encabezados para homologar la data\n",
    "    bancos = ['Concepto','BBVA Perú','BANCOM','B. de Crédito del Perú','B. Pichincha','B. Interamericano de Finanzas','Scotiabank Perú','Citibank','Interbank','Mibanco','B. GNB','B. Falabella Perú','B. Santander Perú ','B. Ripley ','Alfin Banco','B. ICBC','B. of China','B. BCI Perú','TOTAL BANCA MÚLTIPLE']  # Nombres de los bancos\n",
    "\n",
    "    df = df.iloc[51:59]  # Sección de créditos de consumo por entidad bancaria\n",
    "    df.columns = bancos\n",
    "    df = df.reset_index(drop = True)  # Ordenamiento de la Informacion\n",
    "\n",
    "    periodo = file[64:71]  # Extraccion del mes de referencia, SUSTITUIRLO de acuerdo al nombre de la carpeta de origen\n",
    "    df['Mes'] = pd.to_datetime(periodo, format = '%Y-%m') + pd.offsets.MonthEnd(0)  # Coloca la cadena de texto en formato fecha con el último día de cada mes \n",
    "\n",
    "    # Desdinamización de la tabla (aquí se coloca el encabezado de la tabla como una columna con los nombres de los bancos)\n",
    "    bancos_cols = list(bancos)[1:]  # Se crea una lista con los nombres de los bancos en la fila 6\n",
    "    creditos_vals = [col for col in df.columns if col not in bancos_cols]  # Esta sentencia ayuda a fijar los valores para los respectivos bancos\n",
    "\n",
    "    df = df.melt(\n",
    "    id_vars = creditos_vals,        \n",
    "    value_vars = bancos_cols,\n",
    "    var_name = 'Banco',\n",
    "    value_name = 'Morosidad (%)'    \n",
    "    )  # Esto desdinamiza la tabla y ayuda a presentar la información de forma más ordenada\n",
    "\n",
    "    df_creditos_1 = pd.concat([df_creditos_1, df], axis = 0)  # Unión de todas las bases de datos por las filas\n",
    "\n",
    "df_creditos_1 = df_creditos_1.reset_index(drop = True)\n",
    "df_creditos_1 = df_creditos_1.fillna(0)  # Completa los valores faltantes con 0\n",
    "df_creditos_1 = df_creditos_1.replace(\"-\", 0)  # Reemplaza el caracter '-' con 0\n",
    "\n",
    "print(df_creditos_1)"
   ]
  },
  {
   "cell_type": "markdown",
   "metadata": {},
   "source": [
    "##### Periodo 2: 2025 (Se incluye aquí Compartamos Banco)"
   ]
  },
  {
   "cell_type": "code",
   "execution_count": null,
   "metadata": {},
   "outputs": [],
   "source": [
    "df_creditos_2 = pd.DataFrame()  # Base de Datos en blanco para unir toda la data\n",
    "\n",
    "for file in glob.glob('C:/Users/ryanh/Downloads/DataFC/Análisis de Morosidad/2025/*.xls'):\n",
    "\n",
    "    df = pd.read_excel(file, header=None, engine='xlrd')  # Lectura masiva de archivos\n",
    "    df = df.fillna(0)  # Completa los valores faltantes con 0\n",
    "    df = df.replace(\"-\", 0)  # Reemplaza el caracter '-' con 0\n",
    "\n",
    "    # Hay archivos que en los encabezados se cuenta con * por lo que se colocan los encabezados para homologar la data\n",
    "    bancos = ['Concepto','BBVA Perú','BANCOM','B. de Crédito del Perú','B. Pichincha','B. Interamericano de Finanzas','Scotiabank Perú','Citibank','Interbank','Mibanco','B. GNB','B. Falabella Perú','B. Santander Perú ','B. Ripley ','Alfin Banco','B. ICBC','B. of China','B. BCI Perú','Compartamos Banco','TOTAL BANCA MÚLTIPLE']  # Nombres de los bancos\n",
    "\n",
    "    df = df.iloc[51:59]  # Sección de créditos de consumo por entidad bancaria\n",
    "    df.columns = bancos\n",
    "    df = df.reset_index(drop = True)  # Ordenamiento de la Informacion\n",
    "\n",
    "    periodo = file[59:66]  # Extraccion del mes de referencia, SUSTITUIRLO de acuerdo al nombre de la carpeta de origen\n",
    "    df['Mes'] = pd.to_datetime(periodo, format = '%Y-%m') + pd.offsets.MonthEnd(0)  # Coloca la cadena de texto en formato fecha con el último día de cada mes \n",
    "\n",
    "    # Desdinamización de la tabla (aquí se coloca el encabezado de la tabla como una columna con los nombres de los bancos)\n",
    "    bancos_cols = list(bancos)[1:]  # Se crea una lista con los nombres de los bancos en la fila 6\n",
    "    creditos_vals = [col for col in df.columns if col not in bancos_cols]  # Esta sentencia ayuda a fijar los valores para los respectivos bancos\n",
    "\n",
    "    df = df.melt(\n",
    "    id_vars = creditos_vals,        \n",
    "    value_vars = bancos_cols,\n",
    "    var_name = 'Banco',\n",
    "    value_name = 'Morosidad (%)'    \n",
    "    )  # Esto desdinamiza la tabla y ayuda a presentar la información de forma más ordenada\n",
    "\n",
    "    df_creditos_2 = pd.concat([df_creditos_2, df], axis = 0)  # Unión de todas las bases de datos por las filas\n",
    "\n",
    "df_creditos_2 = df_creditos_2.reset_index(drop = True)\n",
    "df_creditos_2 = df_creditos_2.fillna(0)  # Completa los valores faltantes con 0\n",
    "df_creditos_2 = df_creditos_2.replace(\"-\", 0)  # Reemplaza el caracter '-' con 0\n",
    "\n",
    "print(df_creditos_2)"
   ]
  },
  {
   "cell_type": "code",
   "execution_count": null,
   "metadata": {},
   "outputs": [],
   "source": [
    "df_creditos = pd.concat([df_creditos_1, df_creditos_2], axis = 0)\n",
    "df_creditos = df_creditos.reset_index(drop = True)\n",
    "df_creditos = df_creditos.fillna(0)  # Completa los valores faltantes con 0\n",
    "df_creditos = df_creditos.replace(\"-\", 0)  # Reemplaza el caracter '-' con 0"
   ]
  },
  {
   "cell_type": "markdown",
   "metadata": {},
   "source": [
    "#### Clientes B2B"
   ]
  },
  {
   "cell_type": "markdown",
   "metadata": {},
   "source": [
    "Aquí se toma la información de créditos PyME."
   ]
  },
  {
   "cell_type": "markdown",
   "metadata": {},
   "source": [
    "##### Periodo 1: 2023 - 2024"
   ]
  },
  {
   "cell_type": "code",
   "execution_count": null,
   "metadata": {},
   "outputs": [],
   "source": [
    "df_creditos_3 = pd.DataFrame()  # Base de Datos en blanco para unir toda la data\n",
    "\n",
    "for file in glob.glob('C:/Users/ryanh/Downloads/DataFC/Análisis de Morosidad/2023-2024/*.xls'):\n",
    "\n",
    "    df = pd.read_excel(file, header=None, engine='xlrd')  # Lectura masiva de archivos\n",
    "    df = df.fillna(0)  # Completa los valores faltantes con 0\n",
    "    df = df.replace(\"-\", 0)  # Reemplaza el caracter '-' con 0\n",
    "\n",
    "    # Hay archivos que en los encabezados se cuenta con * por lo que se colocan los encabezados para homologar la data\n",
    "    bancos = ['Concepto','BBVA Perú','BANCOM','B. de Crédito del Perú','B. Pichincha','B. Interamericano de Finanzas','Scotiabank Perú','Citibank','Interbank','Mibanco','B. GNB','B. Falabella Perú','B. Santander Perú ','B. Ripley ','Alfin Banco','B. ICBC','B. of China','B. BCI Perú','TOTAL BANCA MÚLTIPLE']  # Nombres de los bancos\n",
    "\n",
    "    df_1 = df.iloc[24:30]  # Sección de créditos por entidad bancaria para la pequeña empresa\n",
    "    df_1.columns = bancos\n",
    "    df_1['Segmento'] = 'Clientes B2B - Pequeña Empresa'\n",
    "    df_1 = df_1.reset_index(drop = True)  # Ordenamiento de la Informacion\n",
    "\n",
    "    df_2 = df.iloc[33:39]  # Sección de créditos por entidad bancaria para la pequeña empresa\n",
    "    df_2.columns = bancos\n",
    "    df_2['Segmento'] = 'Clientes B2B - Mediana Empresa'\n",
    "    df_2 = df_2.reset_index(drop = True)  # Ordenamiento de la Informacion\n",
    "\n",
    "    periodo = file[64:71]  # Extraccion del mes de referencia, SUSTITUIRLO de acuerdo al nombre de la carpeta de origen\n",
    "    df_1['Mes'] = pd.to_datetime(periodo, format = '%Y-%m') + pd.offsets.MonthEnd(0)  # Coloca la cadena de texto en formato fecha con el último día de cada mes\n",
    "    df_2['Mes'] = pd.to_datetime(periodo, format = '%Y-%m') + pd.offsets.MonthEnd(0)  # Coloca la cadena de texto en formato fecha con el último día de cada mes\n",
    "\n",
    "    df = pd.concat([df_1, df_2], axis = 0)\n",
    "    df = df.reset_index(drop = True)\n",
    "\n",
    "    # Desdinamización de la tabla (aquí se coloca el encabezado de la tabla como una columna con los nombres de los bancos)\n",
    "    bancos_cols = list(bancos)[1:]  # Se crea una lista con los nombres de los bancos en la fila 6\n",
    "    creditos_vals = [col for col in df.columns if col not in bancos_cols]  # Esta sentencia ayuda a fijar los valores para los respectivos bancos\n",
    "\n",
    "    df = df.melt(\n",
    "    id_vars = creditos_vals,        \n",
    "    value_vars = bancos_cols,\n",
    "    var_name = 'Banco',\n",
    "    value_name = 'Morosidad (%)'    \n",
    "    )  # Esto desdinamiza la tabla y ayuda a presentar la información de forma más ordenada\n",
    "\n",
    "    df_creditos_3 = pd.concat([df_creditos_3, df], axis = 0)  # Unión de todas las bases de datos por las filas\n",
    "\n",
    "df_creditos_3 = df_creditos_3.reset_index(drop = True)\n",
    "df_creditos_3 = df_creditos_3.fillna(0)  # Completa los valores faltantes con 0\n",
    "df_creditos_3 = df_creditos_3.replace(\"-\", 0)  # Reemplaza el caracter '-' con 0\n",
    "\n",
    "print(df_creditos_3)"
   ]
  },
  {
   "cell_type": "markdown",
   "metadata": {},
   "source": [
    "##### Periodo 2: 2025 (Se incluye aquí Compartamos Banco)"
   ]
  },
  {
   "cell_type": "code",
   "execution_count": null,
   "metadata": {},
   "outputs": [],
   "source": [
    "df_creditos_4 = pd.DataFrame()  # Base de Datos en blanco para unir toda la data\n",
    "\n",
    "for file in glob.glob('C:/Users/ryanh/Downloads/DataFC/Análisis de Morosidad/2025/*.xls'):\n",
    "\n",
    "    df = pd.read_excel(file, header=None, engine='xlrd')  # Lectura masiva de archivos\n",
    "    df = df.fillna(0)  # Completa los valores faltantes con 0\n",
    "    df = df.replace(\"-\", 0)  # Reemplaza el caracter '-' con 0\n",
    "\n",
    "    # Hay archivos que en los encabezados se cuenta con * por lo que se colocan los encabezados para homologar la data\n",
    "    bancos = ['Concepto','BBVA Perú','BANCOM','B. de Crédito del Perú','B. Pichincha','B. Interamericano de Finanzas','Scotiabank Perú','Citibank','Interbank','Mibanco','B. GNB','B. Falabella Perú','B. Santander Perú ','B. Ripley ','Alfin Banco','B. ICBC','B. of China','B. BCI Perú','Compartamos Banco','TOTAL BANCA MÚLTIPLE']  # Nombres de los bancos\n",
    "\n",
    "    df_1 = df.iloc[24:30]  # Sección de créditos por entidad bancaria para la pequeña empresa\n",
    "    df_1.columns = bancos\n",
    "    df_1['Segmento'] = 'Clientes B2B - Pequeña Empresa'\n",
    "    df_1 = df_1.reset_index(drop = True)  # Ordenamiento de la Informacion\n",
    "\n",
    "    df_2 = df.iloc[33:39]  # Sección de créditos por entidad bancaria para la pequeña empresa\n",
    "    df_2.columns = bancos\n",
    "    df_2['Segmento'] = 'Clientes B2B - Mediana Empresa'\n",
    "    df_2 = df_2.reset_index(drop = True)  # Ordenamiento de la Informacion\n",
    "\n",
    "    periodo = file[59:66]  # Extraccion del mes de referencia, SUSTITUIRLO de acuerdo al nombre de la carpeta de origen\n",
    "    df_1['Mes'] = pd.to_datetime(periodo, format = '%Y-%m') + pd.offsets.MonthEnd(0)  # Coloca la cadena de texto en formato fecha con el último día de cada mes\n",
    "    df_2['Mes'] = pd.to_datetime(periodo, format = '%Y-%m') + pd.offsets.MonthEnd(0)  # Coloca la cadena de texto en formato fecha con el último día de cada mes\n",
    "\n",
    "    df = pd.concat([df_1, df_2], axis = 0)\n",
    "    df = df.reset_index(drop = True)\n",
    "\n",
    "    # Desdinamización de la tabla (aquí se coloca el encabezado de la tabla como una columna con los nombres de los bancos)\n",
    "    bancos_cols = list(bancos)[1:]  # Se crea una lista con los nombres de los bancos en la fila 6\n",
    "    creditos_vals = [col for col in df.columns if col not in bancos_cols]  # Esta sentencia ayuda a fijar los valores para los respectivos bancos\n",
    "\n",
    "    df = df.melt(\n",
    "    id_vars = creditos_vals,        \n",
    "    value_vars = bancos_cols,\n",
    "    var_name = 'Banco',\n",
    "    value_name = 'Morosidad (%)'    \n",
    "    )  # Esto desdinamiza la tabla y ayuda a presentar la información de forma más ordenada\n",
    "\n",
    "    df_creditos_4 = pd.concat([df_creditos_4, df], axis = 0)  # Unión de todas las bases de datos por las filas\n",
    "\n",
    "df_creditos_4 = df_creditos_4.reset_index(drop = True)\n",
    "df_creditos_4 = df_creditos_4.fillna(0)  # Completa los valores faltantes con 0\n",
    "df_creditos_4 = df_creditos_4.replace(\"-\", 0)  # Reemplaza el caracter '-' con 0\n",
    "\n",
    "print(df_creditos_4)"
   ]
  },
  {
   "cell_type": "code",
   "execution_count": null,
   "metadata": {},
   "outputs": [],
   "source": [
    "df_creditos_pyme = pd.concat([df_creditos_3, df_creditos_4], axis = 0)\n",
    "df_creditos_pyme = df_creditos_pyme.reset_index(drop = True)\n",
    "df_creditos_pyme = df_creditos_pyme.fillna(0)  # Completa los valores faltantes con 0\n",
    "df_creditos_pyme = df_creditos_pyme.replace(\"-\", 0)  # Reemplaza el caracter '-' con 0"
   ]
  },
  {
   "cell_type": "markdown",
   "metadata": {},
   "source": [
    "### Parte 2: Análisis Gráfico de la Información"
   ]
  },
  {
   "cell_type": "markdown",
   "metadata": {},
   "source": [
    "#### Morosidad B2C"
   ]
  },
  {
   "cell_type": "markdown",
   "metadata": {},
   "source": [
    "##### Morosidad en Tarjeta de Crédito por Mes - Top 5 Market Share"
   ]
  },
  {
   "cell_type": "markdown",
   "metadata": {},
   "source": [
    "Como se comentó anteriormente, se elige el top 5 debido al market share que estas instituciones cuenta dentro del mercado peruano (80% del market share total, aproximadamente).\n",
    "Para esta parte, se excluirá a Mibanco dado que no cuenta con información de morosidad por TC"
   ]
  },
  {
   "cell_type": "code",
   "execution_count": null,
   "metadata": {},
   "outputs": [],
   "source": [
    "# Seccionamiento de la base de datos con las entidades de mayor market share y para el producto tarjeta de crédito\n",
    "top_5 = ['B. de Crédito del Perú', 'BBVA Perú', 'Scotiabank Perú', 'Interbank']\n",
    "df_grandesbancos = df_creditos[(df_creditos['Banco'].isin(top_5)) & (df_creditos['Concepto'] == 'Tarjetas de crédito')]\n",
    "df_grandesbancos = df_grandesbancos.reset_index(drop = True)\n",
    "\n",
    "# Para facilitar la vista gráfica, se opta por construir una tabla dinámica\n",
    "df_dinamico = df_grandesbancos.pivot(index='Mes', columns='Banco', values='Morosidad (%)')\n",
    "\n",
    "\n",
    "\n",
    "# Estilos de líneas y marcadores para mejor visualización de la gráfica\n",
    "linestyles = ['solid', 'dash', 'dashdot', 'dot']\n",
    "markers    = ['circle', 'square', 'triangle-up', 'diamond']\n",
    "\n",
    "\n",
    "# Creación del lienzo\n",
    "fig = go.Figure()\n",
    "\n",
    "# Creación de la serie para visualizar la morosidad en el tiempo para los 4 principales bancos\n",
    "for i, banco in enumerate(top_5):\n",
    "    fig.add_trace(go.Scatter(\n",
    "        x = df_dinamico.index,\n",
    "        y = df_dinamico[banco],\n",
    "        mode = 'lines+markers',\n",
    "        name = banco,\n",
    "        line   = dict(dash = linestyles[i % len(linestyles)]),\n",
    "        marker = dict(symbol = markers[i % len(markers)], size = 8)\n",
    "    ))\n",
    "\n",
    "# Aspectos de forma\n",
    "fig.update_layout(\n",
    "    title = \"Evolución de la morosidad por tarjeta de crédito<br>Bancos con mayor market share\",\n",
    "    width = 1700, height = 600,\n",
    "    xaxis=dict(\n",
    "        title=\"Mes\",\n",
    "        tickmode=\"array\",\n",
    "        tickvals = list(df_dinamico.index),\n",
    "        ticktext = [d.strftime(\"%Y-%m\") for d in df_dinamico.index],\n",
    "        tickangle = 45\n",
    "    ),\n",
    "    yaxis_title = \"Morosidad (%)\",\n",
    "    legend_title = \"Banco\",\n",
    "    margin = dict(l = 40, r = 40, t = 80, b = 80)\n",
    ")\n",
    "\n",
    "# Visualización\n",
    "fig.show()"
   ]
  },
  {
   "cell_type": "markdown",
   "metadata": {},
   "source": [
    "##### Morosidad en Créditos Personales (créditos revolventes)"
   ]
  },
  {
   "cell_type": "markdown",
   "metadata": {},
   "source": [
    "Como se comentó anteriormente, se elige el top 5 debido al market share que estas instituciones cuenta dentro del mercado peruano (80% del market share total, aproximadamente).\n",
    "Para esta parte, se excluirá a Mibanco dado que no cuenta con información de morosidad por TC"
   ]
  },
  {
   "cell_type": "code",
   "execution_count": null,
   "metadata": {},
   "outputs": [],
   "source": [
    "# Seccionamiento de la base de datos con las entidades de mayor market share y para el producto tarjeta de crédito\n",
    "top_5 = ['B. de Crédito del Perú', 'BBVA Perú', 'Scotiabank Perú', 'Interbank', 'Mibanco']\n",
    "df_revolvente = df_creditos[(df_creditos['Banco'].isin(top_5)) & (df_creditos['Concepto'] == '   Préstamos revolventes')]\n",
    "df_revolvente = df_revolvente.reset_index(drop = True)\n",
    "\n",
    "# Para facilitar la vista gráfica, se opta por construir una tabla dinámica\n",
    "df_dinamico = df_revolvente.pivot(index='Mes', columns='Banco', values='Morosidad (%)')\n",
    "\n",
    "\n",
    "\n",
    "# Estilos de líneas y marcadores para mejor visualización de la gráfica\n",
    "linestyles = ['solid', 'dash', 'dashdot', 'dot']\n",
    "markers    = ['circle', 'square', 'triangle-up', 'diamond']\n",
    "\n",
    "\n",
    "# Creación del lienzo\n",
    "fig = go.Figure()\n",
    "\n",
    "# Creación de la serie para visualizar la morosidad en el tiempo para los 4 principales bancos\n",
    "for i, banco in enumerate(top_5):\n",
    "    fig.add_trace(go.Scatter(\n",
    "        x = df_dinamico.index,\n",
    "        y = df_dinamico[banco],\n",
    "        mode = 'lines+markers',\n",
    "        name = banco,\n",
    "        line   = dict(dash = linestyles[i % len(linestyles)]),\n",
    "        marker = dict(symbol = markers[i % len(markers)], size = 8)\n",
    "    ))\n",
    "\n",
    "# Aspectos de forma\n",
    "fig.update_layout(\n",
    "    title = \"Evolución de la morosidad por crédito revolvente<br>Bancos con mayor market share\",\n",
    "    width = 1700, height = 600,\n",
    "    xaxis=dict(\n",
    "        title=\"Mes\",\n",
    "        tickmode=\"array\",\n",
    "        tickvals = list(df_dinamico.index),\n",
    "        ticktext = [d.strftime(\"%Y-%m\") for d in df_dinamico.index],\n",
    "        tickangle = 45\n",
    "    ),\n",
    "    yaxis_title = \"Morosidad (%)\",\n",
    "    legend_title = \"Banco\",\n",
    "    margin = dict(l = 40, r = 40, t = 80, b = 80)\n",
    ")\n",
    "\n",
    "# Visualización\n",
    "fig.show()"
   ]
  },
  {
   "cell_type": "markdown",
   "metadata": {},
   "source": [
    "#### Morosidad B2B"
   ]
  },
  {
   "cell_type": "markdown",
   "metadata": {},
   "source": [
    "Se tomará como referencia el apartado de préstamos y el factoring como medidas de financiamiento para analizar el estado de morosidad de estos clientes respecto de los bancos especializados en banca empresarial y emprendedora (BBVA, BCP, Mibanco, Alfin Banco)."
   ]
  },
  {
   "cell_type": "markdown",
   "metadata": {},
   "source": [
    "##### Morosidad en Créditos"
   ]
  },
  {
   "cell_type": "code",
   "execution_count": null,
   "metadata": {},
   "outputs": [],
   "source": [
    "# Filtrar solo 'Préstamo'\n",
    "top_4 = ['B. de Crédito del Perú', 'BBVA Perú', 'Mibanco', 'Alfin Banco']\n",
    "df_prestamo = df_creditos_pyme[(df_creditos_pyme['Concepto'] == 'Préstamos') & (df_creditos_pyme['Banco'].isin(top_4))]\n",
    "\n",
    "# Segmentos a graficar\n",
    "segmentos = ['Clientes B2B - Pequeña Empresa', 'Clientes B2B - Mediana Empresa']\n",
    "\n",
    "for segmento in segmentos:\n",
    "    df_seg = df_prestamo[df_prestamo['Segmento'] == segmento]\n",
    "    # Crear pivote: índice Mes, columnas Banco, valores promedio de Morosidad (%)\n",
    "    df_pivot = (\n",
    "        df_seg\n",
    "        .groupby(['Mes', 'Banco'])['Morosidad (%)']\n",
    "        .mean()\n",
    "        .reset_index()\n",
    "        .pivot(index='Mes', columns='Banco', values='Morosidad (%)')\n",
    "    )\n",
    "\n",
    "    fig = go.Figure()\n",
    "    linestyles = ['solid', 'dash', 'dashdot', 'dot']\n",
    "    markers    = ['circle', 'square', 'triangle-up', 'diamond']\n",
    "\n",
    "    for i, banco in enumerate(df_pivot.columns):\n",
    "        fig.add_trace(go.Scatter(\n",
    "            x = df_pivot.index,\n",
    "            y = df_pivot[banco],\n",
    "            mode = 'lines+markers',\n",
    "            name = banco,\n",
    "            line = dict(dash=linestyles[i % len(linestyles)]),\n",
    "            marker = dict(symbol=markers[i % len(markers)], size=8)\n",
    "        ))\n",
    "\n",
    "    fig.update_layout(\n",
    "        title = f\"Evolución de Morosidad (%) por Créditos — {segmento}\",\n",
    "        width = 1700, height = 500,\n",
    "        xaxis = dict(\n",
    "            title = \"Mes\",\n",
    "            tickmode = \"array\",\n",
    "            tickvals = list(df_pivot.index),\n",
    "            ticktext = [d.strftime(\"%Y-%m\") for d in df_pivot.index],\n",
    "            tickangle = 45\n",
    "        ),\n",
    "        yaxis_title = \"Morosidad (%)\",\n",
    "        legend_title = \"Banco\",\n",
    "        margin = dict(l = 40, r = 40, t = 80, b = 80)\n",
    "    )\n",
    "\n",
    "    fig.show()"
   ]
  },
  {
   "cell_type": "markdown",
   "metadata": {},
   "source": [
    "##### Morosidad en Factoring"
   ]
  },
  {
   "cell_type": "code",
   "execution_count": null,
   "metadata": {},
   "outputs": [],
   "source": [
    "# Filtrar solo 'Préstamo'\n",
    "top_4 = ['B. de Crédito del Perú', 'BBVA Perú', 'Mibanco', 'Alfin Banco']\n",
    "df_prestamo = df_creditos_pyme[(df_creditos_pyme['Concepto'] == 'Préstamos') & (df_creditos_pyme['Banco'].isin(top_4))]\n",
    "\n",
    "# Segmentos a graficar\n",
    "segmentos = ['Clientes B2B - Pequeña Empresa']\n",
    "\n",
    "for segmento in segmentos:\n",
    "    df_seg = df_prestamo[df_prestamo['Segmento'] == segmento]\n",
    "    # Crear pivote: índice Mes, columnas Banco, valores promedio de Morosidad (%)\n",
    "    df_pivot = (\n",
    "        df_seg\n",
    "        .groupby(['Mes', 'Banco'])['Morosidad (%)']\n",
    "        .mean()\n",
    "        .reset_index()\n",
    "        .pivot(index='Mes', columns='Banco', values='Morosidad (%)')\n",
    "    )\n",
    "\n",
    "    fig = go.Figure()\n",
    "    linestyles = ['solid', 'dash', 'dashdot', 'dot']\n",
    "    markers    = ['circle', 'square', 'triangle-up', 'diamond']\n",
    "\n",
    "    for i, banco in enumerate(df_pivot.columns):\n",
    "        fig.add_trace(go.Scatter(\n",
    "            x = df_pivot.index,\n",
    "            y = df_pivot[banco],\n",
    "            mode = 'lines+markers',\n",
    "            name = banco,\n",
    "            line = dict(dash=linestyles[i % len(linestyles)]),\n",
    "            marker = dict(symbol=markers[i % len(markers)], size=8)\n",
    "        ))\n",
    "\n",
    "    fig.update_layout(\n",
    "        title = f\"Evolución de Morosidad (%) por Factoring — {segmento}\",\n",
    "        width = 1700, height = 500,\n",
    "        xaxis = dict(\n",
    "            title = \"Mes\",\n",
    "            tickmode = \"array\",\n",
    "            tickvals = list(df_pivot.index),\n",
    "            ticktext = [d.strftime(\"%Y-%m\") for d in df_pivot.index],\n",
    "            tickangle = 45\n",
    "        ),\n",
    "        yaxis_title = \"Morosidad (%)\",\n",
    "        legend_title = \"Banco\",\n",
    "        margin = dict(l = 40, r = 40, t = 80, b = 80)\n",
    "    )\n",
    "\n",
    "    fig.show()"
   ]
  },
  {
   "cell_type": "markdown",
   "metadata": {},
   "source": [
    "### Parte 3: Conclusiones"
   ]
  },
  {
   "cell_type": "markdown",
   "metadata": {},
   "source": [
    " - Sobre los clientes B2C, se puede apreciar que la morosidad por concepto de tarjetas de crédito presenta un ligero incremento en los primeros 4 meses del 2025, con un crecimiento del 5% aproximadamente. Para el caso del crédito revolvente, se visualiza una tendencia creciente aunque irregular en el tiempo para el caso de Interbank mientras que otras entidades mantienen un valor casi nulo, a excepción de Mibanco que mantiene una tendencia irregular pero por debajo del 0.01%. \n",
    " - Sobre los clientes B2B, para el caso de los créditos personales, los valores de morosidad mantienen una tendencia relativamente _flat_, salvo el caso de Alfin Banco, el cual muestra valores irregulares en el tiempo, pero con cierta tendencia al alza. Por el lado del uso del factoring como medio de financiamiento, el comportamiento es similar, salvo el caso de BBVA cuya morosidad ha deterioriado (siendo el salto más fuerte de 18% entre setiembre y octubre 2024) la cual aún no ha podido reducirse del todo."
   ]
  }
 ],
 "metadata": {
  "kernelspec": {
   "display_name": "base",
   "language": "python",
   "name": "python3"
  },
  "language_info": {
   "codemirror_mode": {
    "name": "ipython",
    "version": 3
   },
   "file_extension": ".py",
   "mimetype": "text/x-python",
   "name": "python",
   "nbconvert_exporter": "python",
   "pygments_lexer": "ipython3",
   "version": "3.12.4"
  }
 },
 "nbformat": 4,
 "nbformat_minor": 2
}
